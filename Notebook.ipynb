{
  "nbformat": 4,
  "nbformat_minor": 0,
  "metadata": {
    "accelerator": "GPU",
    "colab": {
      "name": "Notebook.ipynb",
      "provenance": [],
      "collapsed_sections": []
    },
    "kernelspec": {
      "name": "python385jvsc74a57bd0916dbcbb3f70747c44a77c7bcd40155683ae19c65e1c03b4aa3499c5328201f1",
      "display_name": "Python 3.8.5 64-bit"
    },
    "language_info": {
      "codemirror_mode": {
        "name": "ipython",
        "version": 3
      },
      "file_extension": ".py",
      "mimetype": "text/x-python",
      "name": "python",
      "nbconvert_exporter": "python",
      "pygments_lexer": "ipython3",
      "version": "3.8.5"
    }
  },
  "cells": [
    {
      "cell_type": "code",
      "metadata": {
        "colab": {
          "base_uri": "https://localhost:8080/",
          "height": 376
        },
        "id": "feci1S8Ie4V8",
        "outputId": "8518bff1-5cec-419e-c5f9-ddc0be59fda6"
      },
      "source": [
        "import os\n",
        "import shutil\n",
        "import warnings\n",
        "import tensorflow as tf\n",
        "from tensorflow.keras.layers import Input, Dropout, Dense\n",
        "from tensorflow.keras.models import Model\n",
        "from tensorflow.keras.losses import BinaryCrossentropy\n",
        "from tensorflow.keras.metrics import BinaryAccuracy\n",
        "from tensorflow.keras.utils import plot_model\n",
        "from tensorflow.data.experimental import cardinality\n",
        "from tensorflow_hub import KerasLayer\n",
        "import tensorflow_text as text\n",
        "from official.nlp import optimization  \n",
        "import matplotlib.pyplot as plt\n",
        "\n",
        "warnings.filterwarnings('ignore')\n",
        "tf.get_logger().setLevel('ERROR')"
      ],
      "execution_count": 1,
      "outputs": []
    },
    {
      "cell_type": "code",
      "metadata": {
        "colab": {
          "background_save": true
        },
        "id": "lwWhN4ZOe4WH",
        "outputId": "85defc6a-ffa0-4d87-c85c-58637fa8a03f"
      },
      "source": [
        "url = 'https://ai.stanford.edu/~amaas/data/sentiment/aclImdb_v1.tar.gz'\n",
        "dataset = tf.keras.utils.get_file('aclImdb_v1', url,\n",
        "                                  untar=True, cache_dir='.',\n",
        "                                  cache_subdir='')\n",
        "\n",
        "dataset_dir = os.path.join(os.path.dirname(dataset), 'aclImdb')\n",
        "train_dir = os.path.join(dataset_dir, 'train')\n",
        "remove_dir = os.path.join(train_dir, 'unsup')\n",
        "shutil.rmtree(remove_dir)"
      ],
      "execution_count": null,
      "outputs": [
        {
          "output_type": "stream",
          "text": [
            "Downloading data from https://ai.stanford.edu/~amaas/data/sentiment/aclImdb_v1.tar.gz\n",
            "84131840/84125825 [==============================] - 3s 0us/step\n"
          ],
          "name": "stdout"
        }
      ]
    },
    {
      "cell_type": "code",
      "metadata": {
        "colab": {
          "background_save": true
        },
        "id": "eUweT9M8e4WI",
        "outputId": "89ca78f4-8fb6-4b79-b125-31132228db0c"
      },
      "source": [
        "AUTOTUNE = tf.data.AUTOTUNE\n",
        "batch_size = 32\n",
        "seed = 42\n",
        "\n",
        "raw_train_ds = tf.keras.preprocessing.text_dataset_from_directory(\n",
        "    'aclImdb/train',\n",
        "    batch_size=batch_size,\n",
        "    validation_split=0.2,\n",
        "    subset='training',\n",
        "    seed=seed)\n",
        "\n",
        "class_names = raw_train_ds.class_names\n",
        "train_ds = raw_train_ds.cache().prefetch(buffer_size=AUTOTUNE)\n",
        "\n",
        "val_ds = tf.keras.preprocessing.text_dataset_from_directory(\n",
        "    'aclImdb/train',\n",
        "    batch_size=batch_size,\n",
        "    validation_split=0.2,\n",
        "    subset='validation',\n",
        "    seed=seed)\n",
        "\n",
        "val_ds = val_ds.cache().prefetch(buffer_size=AUTOTUNE)\n",
        "\n",
        "test_ds = tf.keras.preprocessing.text_dataset_from_directory(\n",
        "    'aclImdb/test',\n",
        "    batch_size=batch_size)\n",
        "\n",
        "test_ds = test_ds.cache().prefetch(buffer_size=AUTOTUNE)\n"
      ],
      "execution_count": 2,
      "outputs": [
        {
          "output_type": "stream",
          "name": "stdout",
          "text": [
            "Found 25000 files belonging to 2 classes.\n",
            "Using 20000 files for training.\n",
            "Found 25000 files belonging to 2 classes.\n",
            "Using 5000 files for validation.\n",
            "Found 25000 files belonging to 2 classes.\n"
          ]
        }
      ]
    },
    {
      "cell_type": "code",
      "metadata": {
        "colab": {
          "background_save": true
        },
        "id": "znUfAQ5_e4WL",
        "outputId": "a9364b2a-b820-4328-df1f-d31280e59620"
      },
      "source": [
        "for text_batch, label_batch in train_ds.take(1):\n",
        "    for i in range(2):\n",
        "        print(f'Review: {text_batch.numpy()[i]}')\n",
        "        label = label_batch.numpy()[i]\n",
        "        print(f'Label : {label} ({class_names[label]})')"
      ],
      "execution_count": 33,
      "outputs": [
        {
          "output_type": "stream",
          "name": "stdout",
          "text": [
            "Review: b'I try to be very objective when I view a low budget movie. I also apply a lower weight to independent and low budget productions versus the big budget productions. I expect near flawlessness from big budget productions and their studios. Therefore I apply tougher criteria to the major studio releases. But this movie was just a dud. Period. The premise was terrible. The main character, Mary Gordano (Alicia Silverstone), was unbelievable as a high school senior with an unquenchable desire to solve crimes. There was not enough depth in her character or her acting that pulled you into her world. Also, to make this movie more mysterious, the lighting in certain scenes did not set the mood, especially in the warehouse.<br /><br />Once again another disappointing movie that I could only give three points to.'\nLabel : 0 (neg)\nReview: b'Have you ever, or do you have, a pet who\\'s been with you through thick and thin, who you\\'d be lost without, and who you love no matter what? Betcha never thought they feel the same way about you!<br /><br />Wonderful, wonderful family film. If you have a soft spot for animals, this is guaranteed to make you cry no matter your age. I used to watch this movie all the time when I was a little kid, and I find that now, at age sixteen, I love it as much as I did then. I could never decide on a favorite character then, and I still don\\'t think I can! I love all three of the animals. The dialogue seems very real and comfortable, like a loving, but feuding family. I do love Chance, and how at the end he says that he has a family at last. Cheesy, yes, but one must remember that this is meant to be a family film, and it fulfills that role perfectly. Sassy has just the perfect dose of \"sassiness\" and Shadow is the perfect leader/role model to the young, adventurous Chance.<br /><br />The animals way outshine the humans, but of course most of the teary moments are to be had during an interaction with them (ie. rescuing Molly, and the end). Not to mention the incredible soundtrack that gives each moment even more emotion, and an accompanying heart-swelling feeling. I give this 9/10. To be compared to (and even rated better than) Cats and Dogs and Babe.'\nLabel : 1 (pos)\n"
          ]
        }
      ]
    },
    {
      "cell_type": "code",
      "metadata": {
        "colab": {
          "background_save": true
        },
        "id": "U64W5GAwe4WN"
      },
      "source": [
        "preprocess = 'https://tfhub.dev/tensorflow/bert_en_uncased_preprocess/3'\n",
        "bert_encoder = 'https://tfhub.dev/tensorflow/small_bert/bert_en_uncased_L-4_H-512_A-8/1'"
      ],
      "execution_count": 4,
      "outputs": []
    },
    {
      "cell_type": "code",
      "metadata": {
        "colab": {
          "background_save": true
        },
        "id": "-RNszDkTe4WO"
      },
      "source": [
        "def build_model():\n",
        "    text_input = Input(shape=(), dtype=tf.string, name='text')\n",
        "    preprocessing_layer = KerasLayer(preprocess, name='preprocessing')\n",
        "    encoder_inputs = preprocessing_layer(text_input)\n",
        "    encoder = KerasLayer(bert_encoder, trainable=True, name='BERT')\n",
        "    outputs = encoder(encoder_inputs)\n",
        "    net = outputs['pooled_output']\n",
        "    net = Dropout(0.1)(net)\n",
        "    net = Dense(1, activation=None, name='classifier')(net)\n",
        "    return Model(text_input, net)"
      ],
      "execution_count": 5,
      "outputs": []
    },
    {
      "cell_type": "code",
      "metadata": {
        "colab": {
          "background_save": true
        },
        "id": "7P4tjJG-e4WP"
      },
      "source": [
        "model = build_model()\n",
        "plot_model(model, to_file='Images/model.png')"
      ],
      "execution_count": 6,
      "outputs": [
        {
          "output_type": "execute_result",
          "data": {
            "image/png": "[encoded data removed]",
            "text/plain": [
              "<IPython.core.display.Image object>"
            ]
          },
          "metadata": {},
          "execution_count": 6
        }
      ]
    },
    {
      "cell_type": "code",
      "metadata": {
        "colab": {
          "background_save": true
        },
        "id": "Q5GndBsEe4WQ"
      },
      "source": [
        "loss = BinaryCrossentropy(from_logits=True)\n",
        "metrics = BinaryAccuracy()"
      ],
      "execution_count": 7,
      "outputs": []
    },
    {
      "cell_type": "code",
      "metadata": {
        "colab": {
          "background_save": true
        },
        "id": "CJqkBbRBe4WQ"
      },
      "source": [
        "# AdamW optimizer with same scheduling \n",
        "# as the original BERT pre-training\n",
        "epochs = 5\n",
        "steps_per_epoch = cardinality(train_ds).numpy()\n",
        "num_train_steps = steps_per_epoch * epochs\n",
        "num_warmup_steps = int(0.1 * num_train_steps)\n",
        "\n",
        "init_lr = 3e-5\n",
        "optimizer = optimization.create_optimizer(init_lr=init_lr,\n",
        "                                          num_train_steps=num_train_steps,\n",
        "                                          num_warmup_steps=num_warmup_steps,\n",
        "                                          optimizer_type='adamw')"
      ],
      "execution_count": 34,
      "outputs": []
    },
    {
      "cell_type": "code",
      "metadata": {
        "colab": {
          "background_save": true
        },
        "id": "Xa_RkyA_e4WR"
      },
      "source": [
        "model.compile(optimizer=optimizer,\n",
        "              loss=loss,\n",
        "              metrics=metrics)"
      ],
      "execution_count": 9,
      "outputs": []
    },
    {
      "cell_type": "code",
      "metadata": {
        "colab": {
          "background_save": true,
          "base_uri": "https://localhost:8080/"
        },
        "id": "L3maJd0ze4WS",
        "outputId": "95283330-3cef-4e69-a6a5-7a67b6cecd0c"
      },
      "source": [
        "history = model.fit(x=train_ds,\n",
        "                    validation_data=val_ds,\n",
        "                    epochs=epochs)"
      ],
      "execution_count": null,
      "outputs": [
        {
          "output_type": "stream",
          "text": [
            "Epoch 1/5\n",
            "625/625 [==============================] - 163s 248ms/step - loss: 0.5772 - binary_accuracy: 0.6598 - val_loss: 0.3940 - val_binary_accuracy: 0.8346\n",
            "Epoch 2/5\n",
            "625/625 [==============================] - 155s 248ms/step - loss: 0.3667 - binary_accuracy: 0.8318 - val_loss: 0.3697 - val_binary_accuracy: 0.8410\n",
            "Epoch 3/5\n",
            "625/625 [==============================] - 153s 245ms/step - loss: 0.2777 - binary_accuracy: 0.8808 - val_loss: 0.4003 - val_binary_accuracy: 0.8450\n",
            "Epoch 4/5\n",
            "625/625 [==============================] - 152s 243ms/step - loss: 0.2093 - binary_accuracy: 0.9146 - val_loss: 0.4337 - val_binary_accuracy: 0.8480\n",
            "Epoch 5/5\n",
            "625/625 [==============================] - 153s 244ms/step - loss: 0.1658 - binary_accuracy: 0.9370 - val_loss: 0.4901 - val_binary_accuracy: 0.8494\n"
          ],
          "name": "stdout"
        }
      ]
    },
    {
      "cell_type": "code",
      "metadata": {
        "id": "r5VhjSepe4WV",
        "colab": {
          "base_uri": "https://localhost:8080/"
        },
        "outputId": "bb2afeec-0f57-48ff-d95d-5d2b91c3433c"
      },
      "source": [
        "loss, accuracy = model.evaluate(test_ds)\n",
        "print(f'Loss: {loss}')\n",
        "print(f'Accuracy: {accuracy}')"
      ],
      "execution_count": 13,
      "outputs": [
        {
          "output_type": "stream",
          "text": [
            "782/782 [==============================] - 83s 106ms/step - loss: 0.4578 - binary_accuracy: 0.8568\n",
            "Loss: 0.45777058601379395\n",
            "Accuracy: 0.8567600250244141\n"
          ],
          "name": "stdout"
        }
      ]
    },
    {
      "cell_type": "code",
      "metadata": {
        "id": "K2-MhBF0h1cC",
        "colab": {
          "base_uri": "https://localhost:8080/",
          "height": 439
        },
        "outputId": "3561ade7-0378-4b66-fa8b-d9feee176ca8"
      },
      "source": [
        "history_dict = history.history\n",
        "print(history_dict.keys())\n",
        "\n",
        "acc = history_dict['binary_accuracy']\n",
        "val_acc = history_dict['val_binary_accuracy']\n",
        "loss = history_dict['loss']\n",
        "val_loss = history_dict['val_loss']\n",
        "\n",
        "epochs = range(1, len(acc) + 1)\n",
        "fig = plt.figure(figsize=(10, 6))\n",
        "fig.tight_layout()\n",
        "\n",
        "plt.subplot(2, 1, 1)\n",
        "plt.plot(epochs, loss, 'r', label=\"Training Loss\")\n",
        "plt.plot(epochs, val_loss, 'b', label=\"Validation Loss\")\n",
        "plt.title(\"Training and Validation Loss\")\n",
        "plt.ylabel(\"Loss\")\n",
        "plt.legend()\n",
        "\n",
        "plt.subplot(2, 1, 2)\n",
        "plt.plot(epochs, acc, 'r', label=\"Training Acc\")\n",
        "plt.plot(epochs, val_acc, 'b', label=\"Validation Acc\")\n",
        "plt.title(\"Training and Validation Accuracy\")\n",
        "plt.xlabel(\"Epochs\")\n",
        "plt.ylabel(\"Accuracy\")\n",
        "plt.legend(loc=\"Lower Right\")"
      ],
      "execution_count": 18,
      "outputs": [
        {
          "output_type": "stream",
          "text": [
            "dict_keys(['loss', 'binary_accuracy', 'val_loss', 'val_binary_accuracy'])\n"
          ],
          "name": "stdout"
        },
        {
          "output_type": "execute_result",
          "data": {
            "text/plain": [
              "<matplotlib.legend.Legend at 0x7f779ac57a90>"
            ]
          },
          "metadata": {
            "tags": []
          },
          "execution_count": 18
        },
        {
          "output_type": "display_data",
          "data": {
            "image/png": "[encoded data removed]",
            "text/plain": [
              "<Figure size 720x432 with 2 Axes>"
            ]
          },
          "metadata": {
            "tags": [],
            "needs_background": "light"
          }
        }
      ]
    },
    {
      "cell_type": "code",
      "metadata": {
        "id": "b6f_UcgAifsL",
        "colab": {
          "base_uri": "https://localhost:8080/"
        },
        "outputId": "f3cd9d9e-fb79-4314-feef-7c519a15316d"
      },
      "source": [
        "## Save the model for inference\n",
        "dataset_name = 'imdb'\n",
        "saved_model_path = './{}_bert'.format(dataset_name.replace('/', '_'))\n",
        "model.save(saved_model_path, include_optimizer=False)"
      ],
      "execution_count": 11,
      "outputs": []
    },
    {
      "cell_type": "code",
      "execution_count": 12,
      "metadata": {},
      "outputs": [],
      "source": [
        "# Reload the saved model\n",
        "model = tf.saved_model.load(saved_model_path)"
      ]
    }
  ]
}